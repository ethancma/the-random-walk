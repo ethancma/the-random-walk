{
  "nbformat": 4,
  "nbformat_minor": 0,
  "metadata": {
    "colab": {
      "provenance": [],
      "authorship_tag": "ABX9TyPf3s6ZJRGOPp0XZps8VOo0",
      "include_colab_link": true
    },
    "kernelspec": {
      "name": "python3",
      "display_name": "Python 3"
    },
    "language_info": {
      "name": "python"
    }
  },
  "cells": [
    {
      "cell_type": "markdown",
      "metadata": {
        "id": "view-in-github",
        "colab_type": "text"
      },
      "source": [
        "<a href=\"https://colab.research.google.com/github/ethancma/the-random-walk/blob/main/main.ipynb\" target=\"_parent\"><img src=\"https://colab.research.google.com/assets/colab-badge.svg\" alt=\"Open In Colab\"/></a>"
      ]
    },
    {
      "cell_type": "markdown",
      "source": [
        "# Exploration 2 - The Random Walk"
      ],
      "metadata": {
        "id": "-M9CfRk1qWyx"
      }
    },
    {
      "cell_type": "code",
      "source": [
        "import numpy as np\n",
        "import matplotlib.pyplot as plt\n",
        "from PIL import Image"
      ],
      "metadata": {
        "id": "0IITzYMSqdY8"
      },
      "execution_count": 7,
      "outputs": []
    },
    {
      "cell_type": "code",
      "source": [
        "steps = 1000"
      ],
      "metadata": {
        "id": "pNcIIX2puHJo"
      },
      "execution_count": 10,
      "outputs": []
    },
    {
      "cell_type": "code",
      "source": [
        "def basic_walk() -> list:\n",
        "    \"\"\"\n",
        "    Generates simple random walk.\n",
        "    :return positions:\n",
        "    \"\"\"\n",
        "    positions = [0]\n",
        "    for i in range(steps):\n",
        "        rand = np.random.randint(0, 2)\n",
        "        if rand:\n",
        "            positions.append(positions[-1] + 1)\n",
        "        if not rand:\n",
        "            positions.append(positions[-1] - 1)\n",
        "    return positions\n",
        "\n",
        "positions = basic_walk()\n",
        "plt.plot(positions)\n",
        "plt.xlabel(\"Step\")\n",
        "plt.ylabel(\"Position\")\n",
        "plt.title(\"Random Walk H/T\")\n",
        "plt.show()"
      ],
      "metadata": {
        "colab": {
          "base_uri": "https://localhost:8080/",
          "height": 295
        },
        "id": "6cWwXmYwq85J",
        "outputId": "fb4d2127-2ca9-4a0b-d6be-0ec90b3f0b0a"
      },
      "execution_count": 28,
      "outputs": [
        {
          "output_type": "display_data",
          "data": {
            "text/plain": [
              "<Figure size 432x288 with 1 Axes>"
            ],
            "image/png": "[encoded data removed]"
          },
          "metadata": {
            "needs_background": "light"
          }
        }
      ]
    },
    {
      "cell_type": "code",
      "source": [
        "print(f\"Starting position: 0\")\n",
        "print(f\"Last Position (step {steps}): {positions[-1]}\")\n",
        "print(f\"Square root of {steps} steps: {np.sqrt(steps)}\")"
      ],
      "metadata": {
        "colab": {
          "base_uri": "https://localhost:8080/"
        },
        "id": "_MHi85S8thRs",
        "outputId": "66e6a70d-e9cf-4129-8b39-a745c67f2ac7"
      },
      "execution_count": 36,
      "outputs": [
        {
          "output_type": "stream",
          "name": "stdout",
          "text": [
            "Starting position: 0\n",
            "Last Position (step 1000): 36\n",
            "Square root of 1000 steps: 31.622776601683793\n"
          ]
        }
      ]
    },
    {
      "cell_type": "code",
      "source": [],
      "metadata": {
        "id": "bqWjmU1tvxxf"
      },
      "execution_count": null,
      "outputs": []
    }
  ]
}